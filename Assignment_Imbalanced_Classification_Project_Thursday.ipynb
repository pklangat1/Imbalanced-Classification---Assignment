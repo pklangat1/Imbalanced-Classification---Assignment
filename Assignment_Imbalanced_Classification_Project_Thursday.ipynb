{
  "nbformat": 4,
  "nbformat_minor": 0,
  "metadata": {
    "colab": {
      "provenance": [],
      "toc_visible": true
    },
    "kernelspec": {
      "name": "python3",
      "display_name": "Python 3"
    },
    "language_info": {
      "name": "python"
    }
  },
  "cells": [
    {
      "cell_type": "markdown",
      "metadata": {
        "id": "bglnabNuOKbz"
      },
      "source": [
        "# Assignment for Regression Project: "
      ]
    },
    {
      "cell_type": "markdown",
      "metadata": {
        "id": "v6x0xge4ONdG"
      },
      "source": [
        "###Data description\n",
        "● Features\n",
        "○ RowNumber — data string index\n",
        "○ CustomerId — unique customer identifier\n",
        "○ Surname — surname\n",
        "○ CreditScore — credit score\n",
        "○ Geography — country of residence\n",
        "○ Gender — gender\n",
        "○ Age — age\n",
        "○ Tenure — period of maturation for a customer’s fixed deposit (years)\n",
        "○ Balance — account balance\n",
        "○ NumOfProducts — number of banking products used by the customer\n",
        "○ HasCrCard — customer has a credit card\n",
        "○ IsActiveMember — customer’s activeness\n",
        "○ EstimatedSalary — estimated salary\n",
        "● Target\n",
        "○ Exited — сustomer has left\n",
        "Project evaluation\n",
        "We’ve put together the evaluation criteria for the project. Read this carefully before\n",
        "moving on to the task.\n",
        "● How did you prepare the data for training? Have you processed all of the feature\n",
        "types?\n",
        "● Have you explained the preprocessing steps well enough?\n",
        "● How did you investigate the balance of classes?\n",
        "● Did you study the model without taking into account the imbalance of classes?\n",
        "● What are your findings of the task research?\n",
        "● Have you correctly split the data into sets?\n",
        "● How have you worked with the imbalance of classes?\n",
        "● Did you use at least two techniques for imbalance fixing?\n",
        "● Have you performed the model training, validation, and final testing correctly?\n",
        "● How high is your F1 score?\n",
        "● Did you examine the AUC-ROC values?\n",
        "● Have you kept to the project structure and kept the code neat?\n",
        "You can use the CRISP-DM methodology that we’ve used in the past, whose approach\n",
        "will help you address the above questions."
      ]
    },
    {
      "cell_type": "code",
      "metadata": {
        "id": "tuhWXSgPOH01",
        "colab": {
          "base_uri": "https://localhost:8080/",
          "height": 206
        },
        "outputId": "a82c0a9c-a1c1-4ba4-d6f1-f22e5b71f1ae"
      },
      "source": [
        "#Import the data and explore it\n",
        "import pandas as pd\n",
        "\n",
        "df = pd.read_csv('https://bit.ly/2XZK7Bo')\n",
        "test_df = pd.read_csv('https://bit.ly/2XZK7Bo')\n",
        "\n",
        "test_df.head()\n"
      ],
      "execution_count": 17,
      "outputs": [
        {
          "output_type": "execute_result",
          "data": {
            "text/plain": [
              "   RowNumber  CustomerId   Surname  CreditScore Geography  Gender  Age  \\\n",
              "0          1    15634602  Hargrave          619    France  Female   42   \n",
              "1          2    15647311      Hill          608     Spain  Female   41   \n",
              "2          3    15619304      Onio          502    France  Female   42   \n",
              "3          4    15701354      Boni          699    France  Female   39   \n",
              "4          5    15737888  Mitchell          850     Spain  Female   43   \n",
              "\n",
              "   Tenure    Balance  NumOfProducts  HasCrCard  IsActiveMember  \\\n",
              "0     2.0       0.00              1          1               1   \n",
              "1     1.0   83807.86              1          0               1   \n",
              "2     8.0  159660.80              3          1               0   \n",
              "3     1.0       0.00              2          0               0   \n",
              "4     2.0  125510.82              1          1               1   \n",
              "\n",
              "   EstimatedSalary  Exited  \n",
              "0        101348.88       1  \n",
              "1        112542.58       0  \n",
              "2        113931.57       1  \n",
              "3         93826.63       0  \n",
              "4         79084.10       0  "
            ],
            "text/html": [
              "\n",
              "  <div id=\"df-cfa31110-8c74-4f8f-88e8-1e2b8a276cd5\">\n",
              "    <div class=\"colab-df-container\">\n",
              "      <div>\n",
              "<style scoped>\n",
              "    .dataframe tbody tr th:only-of-type {\n",
              "        vertical-align: middle;\n",
              "    }\n",
              "\n",
              "    .dataframe tbody tr th {\n",
              "        vertical-align: top;\n",
              "    }\n",
              "\n",
              "    .dataframe thead th {\n",
              "        text-align: right;\n",
              "    }\n",
              "</style>\n",
              "<table border=\"1\" class=\"dataframe\">\n",
              "  <thead>\n",
              "    <tr style=\"text-align: right;\">\n",
              "      <th></th>\n",
              "      <th>RowNumber</th>\n",
              "      <th>CustomerId</th>\n",
              "      <th>Surname</th>\n",
              "      <th>CreditScore</th>\n",
              "      <th>Geography</th>\n",
              "      <th>Gender</th>\n",
              "      <th>Age</th>\n",
              "      <th>Tenure</th>\n",
              "      <th>Balance</th>\n",
              "      <th>NumOfProducts</th>\n",
              "      <th>HasCrCard</th>\n",
              "      <th>IsActiveMember</th>\n",
              "      <th>EstimatedSalary</th>\n",
              "      <th>Exited</th>\n",
              "    </tr>\n",
              "  </thead>\n",
              "  <tbody>\n",
              "    <tr>\n",
              "      <th>0</th>\n",
              "      <td>1</td>\n",
              "      <td>15634602</td>\n",
              "      <td>Hargrave</td>\n",
              "      <td>619</td>\n",
              "      <td>France</td>\n",
              "      <td>Female</td>\n",
              "      <td>42</td>\n",
              "      <td>2.0</td>\n",
              "      <td>0.00</td>\n",
              "      <td>1</td>\n",
              "      <td>1</td>\n",
              "      <td>1</td>\n",
              "      <td>101348.88</td>\n",
              "      <td>1</td>\n",
              "    </tr>\n",
              "    <tr>\n",
              "      <th>1</th>\n",
              "      <td>2</td>\n",
              "      <td>15647311</td>\n",
              "      <td>Hill</td>\n",
              "      <td>608</td>\n",
              "      <td>Spain</td>\n",
              "      <td>Female</td>\n",
              "      <td>41</td>\n",
              "      <td>1.0</td>\n",
              "      <td>83807.86</td>\n",
              "      <td>1</td>\n",
              "      <td>0</td>\n",
              "      <td>1</td>\n",
              "      <td>112542.58</td>\n",
              "      <td>0</td>\n",
              "    </tr>\n",
              "    <tr>\n",
              "      <th>2</th>\n",
              "      <td>3</td>\n",
              "      <td>15619304</td>\n",
              "      <td>Onio</td>\n",
              "      <td>502</td>\n",
              "      <td>France</td>\n",
              "      <td>Female</td>\n",
              "      <td>42</td>\n",
              "      <td>8.0</td>\n",
              "      <td>159660.80</td>\n",
              "      <td>3</td>\n",
              "      <td>1</td>\n",
              "      <td>0</td>\n",
              "      <td>113931.57</td>\n",
              "      <td>1</td>\n",
              "    </tr>\n",
              "    <tr>\n",
              "      <th>3</th>\n",
              "      <td>4</td>\n",
              "      <td>15701354</td>\n",
              "      <td>Boni</td>\n",
              "      <td>699</td>\n",
              "      <td>France</td>\n",
              "      <td>Female</td>\n",
              "      <td>39</td>\n",
              "      <td>1.0</td>\n",
              "      <td>0.00</td>\n",
              "      <td>2</td>\n",
              "      <td>0</td>\n",
              "      <td>0</td>\n",
              "      <td>93826.63</td>\n",
              "      <td>0</td>\n",
              "    </tr>\n",
              "    <tr>\n",
              "      <th>4</th>\n",
              "      <td>5</td>\n",
              "      <td>15737888</td>\n",
              "      <td>Mitchell</td>\n",
              "      <td>850</td>\n",
              "      <td>Spain</td>\n",
              "      <td>Female</td>\n",
              "      <td>43</td>\n",
              "      <td>2.0</td>\n",
              "      <td>125510.82</td>\n",
              "      <td>1</td>\n",
              "      <td>1</td>\n",
              "      <td>1</td>\n",
              "      <td>79084.10</td>\n",
              "      <td>0</td>\n",
              "    </tr>\n",
              "  </tbody>\n",
              "</table>\n",
              "</div>\n",
              "      <button class=\"colab-df-convert\" onclick=\"convertToInteractive('df-cfa31110-8c74-4f8f-88e8-1e2b8a276cd5')\"\n",
              "              title=\"Convert this dataframe to an interactive table.\"\n",
              "              style=\"display:none;\">\n",
              "        \n",
              "  <svg xmlns=\"http://www.w3.org/2000/svg\" height=\"24px\"viewBox=\"0 0 24 24\"\n",
              "       width=\"24px\">\n",
              "    <path d=\"M0 0h24v24H0V0z\" fill=\"none\"/>\n",
              "    <path d=\"M18.56 5.44l.94 2.06.94-2.06 2.06-.94-2.06-.94-.94-2.06-.94 2.06-2.06.94zm-11 1L8.5 8.5l.94-2.06 2.06-.94-2.06-.94L8.5 2.5l-.94 2.06-2.06.94zm10 10l.94 2.06.94-2.06 2.06-.94-2.06-.94-.94-2.06-.94 2.06-2.06.94z\"/><path d=\"M17.41 7.96l-1.37-1.37c-.4-.4-.92-.59-1.43-.59-.52 0-1.04.2-1.43.59L10.3 9.45l-7.72 7.72c-.78.78-.78 2.05 0 2.83L4 21.41c.39.39.9.59 1.41.59.51 0 1.02-.2 1.41-.59l7.78-7.78 2.81-2.81c.8-.78.8-2.07 0-2.86zM5.41 20L4 18.59l7.72-7.72 1.47 1.35L5.41 20z\"/>\n",
              "  </svg>\n",
              "      </button>\n",
              "      \n",
              "  <style>\n",
              "    .colab-df-container {\n",
              "      display:flex;\n",
              "      flex-wrap:wrap;\n",
              "      gap: 12px;\n",
              "    }\n",
              "\n",
              "    .colab-df-convert {\n",
              "      background-color: #E8F0FE;\n",
              "      border: none;\n",
              "      border-radius: 50%;\n",
              "      cursor: pointer;\n",
              "      display: none;\n",
              "      fill: #1967D2;\n",
              "      height: 32px;\n",
              "      padding: 0 0 0 0;\n",
              "      width: 32px;\n",
              "    }\n",
              "\n",
              "    .colab-df-convert:hover {\n",
              "      background-color: #E2EBFA;\n",
              "      box-shadow: 0px 1px 2px rgba(60, 64, 67, 0.3), 0px 1px 3px 1px rgba(60, 64, 67, 0.15);\n",
              "      fill: #174EA6;\n",
              "    }\n",
              "\n",
              "    [theme=dark] .colab-df-convert {\n",
              "      background-color: #3B4455;\n",
              "      fill: #D2E3FC;\n",
              "    }\n",
              "\n",
              "    [theme=dark] .colab-df-convert:hover {\n",
              "      background-color: #434B5C;\n",
              "      box-shadow: 0px 1px 3px 1px rgba(0, 0, 0, 0.15);\n",
              "      filter: drop-shadow(0px 1px 2px rgba(0, 0, 0, 0.3));\n",
              "      fill: #FFFFFF;\n",
              "    }\n",
              "  </style>\n",
              "\n",
              "      <script>\n",
              "        const buttonEl =\n",
              "          document.querySelector('#df-cfa31110-8c74-4f8f-88e8-1e2b8a276cd5 button.colab-df-convert');\n",
              "        buttonEl.style.display =\n",
              "          google.colab.kernel.accessAllowed ? 'block' : 'none';\n",
              "\n",
              "        async function convertToInteractive(key) {\n",
              "          const element = document.querySelector('#df-cfa31110-8c74-4f8f-88e8-1e2b8a276cd5');\n",
              "          const dataTable =\n",
              "            await google.colab.kernel.invokeFunction('convertToInteractive',\n",
              "                                                     [key], {});\n",
              "          if (!dataTable) return;\n",
              "\n",
              "          const docLinkHtml = 'Like what you see? Visit the ' +\n",
              "            '<a target=\"_blank\" href=https://colab.research.google.com/notebooks/data_table.ipynb>data table notebook</a>'\n",
              "            + ' to learn more about interactive tables.';\n",
              "          element.innerHTML = '';\n",
              "          dataTable['output_type'] = 'display_data';\n",
              "          await google.colab.output.renderOutput(dataTable, element);\n",
              "          const docLink = document.createElement('div');\n",
              "          docLink.innerHTML = docLinkHtml;\n",
              "          element.appendChild(docLink);\n",
              "        }\n",
              "      </script>\n",
              "    </div>\n",
              "  </div>\n",
              "  "
            ]
          },
          "metadata": {},
          "execution_count": 17
        }
      ]
    },
    {
      "cell_type": "code",
      "source": [
        "#Check data types\n",
        "test_df.dtypes"
      ],
      "metadata": {
        "colab": {
          "base_uri": "https://localhost:8080/"
        },
        "id": "lrU3ULdMXCDn",
        "outputId": "aee3fd07-ee62-47ab-b109-d889f539c67b"
      },
      "execution_count": 18,
      "outputs": [
        {
          "output_type": "execute_result",
          "data": {
            "text/plain": [
              "RowNumber            int64\n",
              "CustomerId           int64\n",
              "Surname             object\n",
              "CreditScore          int64\n",
              "Geography           object\n",
              "Gender              object\n",
              "Age                  int64\n",
              "Tenure             float64\n",
              "Balance            float64\n",
              "NumOfProducts        int64\n",
              "HasCrCard            int64\n",
              "IsActiveMember       int64\n",
              "EstimatedSalary    float64\n",
              "Exited               int64\n",
              "dtype: object"
            ]
          },
          "metadata": {},
          "execution_count": 18
        }
      ]
    },
    {
      "cell_type": "code",
      "source": [
        "#Check the shape\n",
        "test_df.shape"
      ],
      "metadata": {
        "colab": {
          "base_uri": "https://localhost:8080/"
        },
        "id": "lt-WPL9OXLnm",
        "outputId": "59394d77-d821-473e-d618-34814187979d"
      },
      "execution_count": 19,
      "outputs": [
        {
          "output_type": "execute_result",
          "data": {
            "text/plain": [
              "(10000, 14)"
            ]
          },
          "metadata": {},
          "execution_count": 19
        }
      ]
    },
    {
      "cell_type": "code",
      "source": [
        "#Check duplicate values\n",
        "test_df.duplicated().sum()"
      ],
      "metadata": {
        "colab": {
          "base_uri": "https://localhost:8080/"
        },
        "id": "pFMYvL49XRKW",
        "outputId": "5b846279-6924-4efd-dd85-8d8f64bb8313"
      },
      "execution_count": 20,
      "outputs": [
        {
          "output_type": "execute_result",
          "data": {
            "text/plain": [
              "0"
            ]
          },
          "metadata": {},
          "execution_count": 20
        }
      ]
    },
    {
      "cell_type": "code",
      "source": [
        "#Check Null columns\n",
        "test_df.isnull().sum()"
      ],
      "metadata": {
        "colab": {
          "base_uri": "https://localhost:8080/"
        },
        "id": "X6Xe2lJUXXfG",
        "outputId": "b8259f95-865f-46f2-ba2b-999dccf326f1"
      },
      "execution_count": 21,
      "outputs": [
        {
          "output_type": "execute_result",
          "data": {
            "text/plain": [
              "RowNumber            0\n",
              "CustomerId           0\n",
              "Surname              0\n",
              "CreditScore          0\n",
              "Geography            0\n",
              "Gender               0\n",
              "Age                  0\n",
              "Tenure             909\n",
              "Balance              0\n",
              "NumOfProducts        0\n",
              "HasCrCard            0\n",
              "IsActiveMember       0\n",
              "EstimatedSalary      0\n",
              "Exited               0\n",
              "dtype: int64"
            ]
          },
          "metadata": {},
          "execution_count": 21
        }
      ]
    },
    {
      "cell_type": "code",
      "source": [
        "#Import f1 score and calculate using DecisionTreeClassifier\n",
        "#Import train_test_split\n",
        "from sklearn.metrics import f1_score\n",
        "from sklearn.tree import DecisionTreeClassifier\n",
        "from sklearn.model_selection import train_test_split\n",
        "from sklearn.metrics import recall_score\n",
        "from sklearn.metrics import precision_score\n",
        "#drop null values in Tenure\n",
        "test_df.dropna(inplace=True)\n",
        "\n",
        "target = test_df['Exited']\n",
        "#drop unwanted columns\n",
        "features = test_df.drop(['Surname','Geography','Gender','RowNumber','CustomerId','Exited'], axis=1)\n",
        "\n",
        "features_train, features_valid, target_train, target_valid = train_test_split(\n",
        "    features, target, test_size=0.25, random_state=12345\n",
        ")\n",
        "\n",
        "model = DecisionTreeClassifier(random_state=42)\n",
        "model.fit(features_train, target_train)\n",
        "predicted_valid = model.predict(features_valid)\n",
        "\n",
        "\n",
        "precision = precision_score(target_valid, predicted_valid)\n",
        "f1 = f1_score(target_valid, predicted_valid)\n",
        "print(f1)\n"
      ],
      "metadata": {
        "colab": {
          "base_uri": "https://localhost:8080/"
        },
        "id": "CWGWBsmEgEbe",
        "outputId": "016e2804-4f95-4ee9-d03a-2a27657eaca0"
      },
      "execution_count": 31,
      "outputs": [
        {
          "output_type": "stream",
          "name": "stdout",
          "text": [
            "0.46447507953340406\n"
          ]
        }
      ]
    },
    {
      "cell_type": "code",
      "source": [
        "#Impove imbalancing and calculate using LogisticRegression\n",
        "#Train the model without taking into account the imbalance\n",
        "#It is improving by 0.1 only\n",
        "#Import train_test_split\n",
        "from sklearn.metrics import f1_score\n",
        "from sklearn.linear_model import LogisticRegression\n",
        "from sklearn.model_selection import train_test_split\n",
        "\n",
        "target = test_df['Exited']\n",
        "#drop unwanted columns\n",
        "features = test_df.drop(['Surname','Geography','Gender','RowNumber','CustomerId','Exited'], axis=1)\n",
        "\n",
        "features_train, features_valid, target_train, target_valid = train_test_split(\n",
        "    features, target, test_size=0.25, random_state=12345\n",
        ")\n",
        "\n",
        "model = LogisticRegression(\n",
        "    random_state=12345, class_weight='balanced', solver='liblinear'\n",
        ")\n",
        "model.fit(features_train, target_train)\n",
        "predicted_valid = model.predict(features_valid)\n",
        "print('F1:', f1_score(target_valid, predicted_valid))\n",
        "\n"
      ],
      "metadata": {
        "colab": {
          "base_uri": "https://localhost:8080/"
        },
        "id": "sNlu39uyk_g1",
        "outputId": "90f99076-d2d9-4e4b-ad9f-0948606446d4"
      },
      "execution_count": 33,
      "outputs": [
        {
          "output_type": "stream",
          "name": "stdout",
          "text": [
            "F1: 0.4606240713224368\n"
          ]
        }
      ]
    },
    {
      "cell_type": "code",
      "source": [
        "import pandas as pd\n",
        "from sklearn.model_selection import train_test_split\n",
        "from sklearn.utils import shuffle\n",
        "from sklearn.linear_model import LogisticRegression\n",
        "from sklearn.metrics import f1_score\n",
        "\n",
        "\n",
        "target = test_df['Exited']\n",
        "#drop unwanted columns\n",
        "features = test_df.drop(['Surname','Geography','Gender','RowNumber','CustomerId','Exited'], axis=1)\n",
        "\n",
        "features_train, features_valid, target_train, target_valid = train_test_split(\n",
        "    features, target, test_size=0.25, random_state=12345\n",
        ")\n",
        "\n",
        "def upsample(features, target, repeat):\n",
        "    features_zeros = features[target == 0]\n",
        "    features_ones = features[target == 1]\n",
        "    target_zeros = target[target == 0]\n",
        "    target_ones = target[target == 1]\n",
        "\n",
        "    features_upsampled = pd.concat([features_zeros] + [features_ones] * repeat)\n",
        "    target_upsampled = pd.concat([target_zeros] + [target_ones] * repeat)\n",
        "\n",
        "    features_upsampled, target_upsampled = shuffle(\n",
        "        features_upsampled, target_upsampled, random_state=12345\n",
        "    )\n",
        "\n",
        "    return features_upsampled, target_upsampled\n",
        "\n",
        "\n",
        "features_upsampled, target_upsampled = upsample(\n",
        "    features_train, target_train, 10\n",
        ")\n",
        "model = LogisticRegression(random_state=12345, solver='liblinear')\n",
        "model.fit(features_upsampled, target_upsampled)\n",
        "predicted_valid=model.predict(features_valid)\n",
        "\n",
        "print('F1:', f1_score(target_valid, predicted_valid))"
      ],
      "metadata": {
        "colab": {
          "base_uri": "https://localhost:8080/"
        },
        "id": "KWO6miVWqqiF",
        "outputId": "68dfd6d0-a20a-454c-de51-4d304b5aaf7b"
      },
      "execution_count": 34,
      "outputs": [
        {
          "output_type": "stream",
          "name": "stdout",
          "text": [
            "F1: 0.3568803593303389\n"
          ]
        }
      ]
    },
    {
      "cell_type": "code",
      "source": [
        "#The recall for threshold 0.0 is one: all answers are positive. The recall drops as the threshold increases.\n",
        "#First, the precision grows and then it drops to zero when the number of positive answers decreases. \n",
        "#If there are no answers of class \"1\", then zero is divided by zero (which is possible in sklearn), and precision is 0.\n",
        "\n",
        "import pandas as pd\n",
        "import numpy as np\n",
        "from sklearn.model_selection import train_test_split\n",
        "from sklearn.linear_model import LogisticRegression\n",
        "from sklearn.metrics import precision_score, recall_score\n",
        "\n",
        "target = test_df['Exited']\n",
        "#drop unwanted columns\n",
        "features = test_df.drop(['Surname','Geography','Gender','RowNumber','CustomerId','Exited'], axis=1)\n",
        "\n",
        "features_train, features_valid, target_train, target_valid = train_test_split(\n",
        "    features, target, test_size=0.25, random_state=12345\n",
        ")\n",
        "\n",
        "model = LogisticRegression(random_state=12345, solver='liblinear')\n",
        "model.fit(features_train, target_train)\n",
        "probabilities_valid = model.predict_proba(features_valid)\n",
        "probabilities_one_valid = probabilities_valid[:, 1]\n",
        "\n",
        "for threshold in np.arange(0, 0.3, 0.02):\n",
        "    predicted_valid = probabilities_one_valid > threshold\n",
        "    precision = precision_score(target_valid, predicted_valid)\n",
        "    recall = recall_score(target_valid, predicted_valid)\n",
        "    print(\n",
        "        'Threshold = {:.2f} | Precision = {:.3f}, Recall = {:.3f}'.format(\n",
        "            threshold, precision, recall\n",
        "        )\n",
        "    )\n"
      ],
      "metadata": {
        "colab": {
          "base_uri": "https://localhost:8080/"
        },
        "id": "kT8eLBDXr1W4",
        "outputId": "de6287d1-5387-416b-d692-c8ac8671ff66"
      },
      "execution_count": 37,
      "outputs": [
        {
          "output_type": "stream",
          "name": "stdout",
          "text": [
            "Threshold = 0.00 | Precision = 0.198, Recall = 1.000\n",
            "Threshold = 0.02 | Precision = 0.198, Recall = 1.000\n",
            "Threshold = 0.04 | Precision = 0.198, Recall = 1.000\n",
            "Threshold = 0.06 | Precision = 0.199, Recall = 1.000\n",
            "Threshold = 0.08 | Precision = 0.202, Recall = 1.000\n",
            "Threshold = 0.10 | Precision = 0.206, Recall = 0.987\n",
            "Threshold = 0.12 | Precision = 0.216, Recall = 0.956\n",
            "Threshold = 0.14 | Precision = 0.228, Recall = 0.900\n",
            "Threshold = 0.16 | Precision = 0.238, Recall = 0.823\n",
            "Threshold = 0.18 | Precision = 0.248, Recall = 0.741\n",
            "Threshold = 0.20 | Precision = 0.266, Recall = 0.652\n",
            "Threshold = 0.22 | Precision = 0.292, Recall = 0.572\n",
            "Threshold = 0.24 | Precision = 0.321, Recall = 0.501\n",
            "Threshold = 0.26 | Precision = 0.347, Recall = 0.419\n",
            "Threshold = 0.28 | Precision = 0.366, Recall = 0.344\n"
          ]
        }
      ]
    },
    {
      "cell_type": "markdown",
      "source": [],
      "metadata": {
        "id": "9sV-1zdfj-Jn"
      }
    },
    {
      "cell_type": "code",
      "source": [
        "#Perform the final testing.\n",
        "import pandas as pd\n",
        "import numpy as np\n",
        "\n",
        "from sklearn.model_selection import train_test_split\n",
        "from sklearn.linear_model import LogisticRegression\n",
        "from sklearn.metrics import precision_score, recall_score\n",
        "\n",
        "df = pd.read_csv('https://bit.ly/2XZK7Bo')\n",
        "df.dropna(inplace=True)\n",
        "\n",
        "target = df['Exited']\n",
        "#drop unwanted columns\n",
        "features = df.drop(['Surname','Geography','Gender','RowNumber','CustomerId','Exited'], axis=1)\n",
        "\n",
        "model = LogisticRegression(random_state=12345, solver='liblinear')\n",
        "model.fit(features, target)\n",
        "probabilities_valid = model.predict_proba(features)\n",
        "probabilities_one_valid = probabilities_valid[:, 1]\n",
        "\n",
        "for threshold in np.arange(0, 0.3, 0.02):\n",
        "    predicted_valid = probabilities_one_valid > threshold\n",
        "    precision = precision_score(target, predicted_valid)\n",
        "    recall = recall_score(target, predicted_valid)\n",
        "    print(\n",
        "        'Threshold = {:.2f} | Precision = {:.3f}, Recall = {:.3f}'.format(\n",
        "            threshold, precision, recall\n",
        "        )\n",
        "    )\n"
      ],
      "metadata": {
        "colab": {
          "base_uri": "https://localhost:8080/"
        },
        "id": "OT2CBlhix5ZW",
        "outputId": "1802ee6d-addc-4d59-c9c6-dd8f58eb8d7a"
      },
      "execution_count": 39,
      "outputs": [
        {
          "output_type": "stream",
          "name": "stdout",
          "text": [
            "Threshold = 0.00 | Precision = 0.204, Recall = 1.000\n",
            "Threshold = 0.02 | Precision = 0.204, Recall = 1.000\n",
            "Threshold = 0.04 | Precision = 0.204, Recall = 0.999\n",
            "Threshold = 0.06 | Precision = 0.207, Recall = 0.996\n",
            "Threshold = 0.08 | Precision = 0.214, Recall = 0.980\n",
            "Threshold = 0.10 | Precision = 0.223, Recall = 0.948\n",
            "Threshold = 0.12 | Precision = 0.235, Recall = 0.906\n",
            "Threshold = 0.14 | Precision = 0.248, Recall = 0.852\n",
            "Threshold = 0.16 | Precision = 0.260, Recall = 0.787\n",
            "Threshold = 0.18 | Precision = 0.274, Recall = 0.718\n",
            "Threshold = 0.20 | Precision = 0.289, Recall = 0.650\n",
            "Threshold = 0.22 | Precision = 0.302, Recall = 0.580\n",
            "Threshold = 0.24 | Precision = 0.320, Recall = 0.517\n",
            "Threshold = 0.26 | Precision = 0.332, Recall = 0.451\n",
            "Threshold = 0.28 | Precision = 0.352, Recall = 0.406\n"
          ]
        }
      ]
    }
  ]
}